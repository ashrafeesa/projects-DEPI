{
 "cells": [
  {
   "cell_type": "code",
   "execution_count": 3,
   "metadata": {},
   "outputs": [],
   "source": [
    "import pandas as pd\n",
    "import numpy as np\n",
    "import re\n",
    "from bs4 import BeautifulSoup\n",
    "from IPython.display import display, HTML\n",
    "from sklearn.model_selection import train_test_split\n",
    "from nltk.stem import PorterStemmer\n",
    "from nltk.corpus import stopwords\n",
    "from nltk.stem import WordNetLemmatizer\n",
    "from collections import Counter\n",
    "import matplotlib.pyplot as plt\n",
    "from sklearn.model_selection import train_test_split\n",
    "lemmatizer = WordNetLemmatizer()\n",
    "stemmer = PorterStemmer()"
   ]
  },
  {
   "cell_type": "code",
   "execution_count": 5,
   "metadata": {},
   "outputs": [],
   "source": [
    "df = pd.read_csv(\"IMDB.csv\")"
   ]
  },
  {
   "cell_type": "code",
   "execution_count": 7,
   "metadata": {},
   "outputs": [
    {
     "data": {
      "text/html": [
       "\n",
       "    <p style=\"\n",
       "        background-color: #0077b6;\n",
       "        font-family: Arial, sans-serif;\n",
       "        font-size: 20px;\n",
       "        font-weight: bold;\n",
       "        color: white;\n",
       "        text-align: center;\n",
       "        border-radius: 8px;\n",
       "        padding: 12px;\n",
       "        box-shadow: 2px 2px 5px rgba(0, 0, 0, 0.2);\n",
       "        width: fit-content;\n",
       "        margin: 10px auto;\n",
       "    \">\n",
       "        📊 Basic Overview of Data\n",
       "    </p>\n",
       "    "
      ],
      "text/plain": [
       "<IPython.core.display.HTML object>"
      ]
     },
     "metadata": {},
     "output_type": "display_data"
    },
    {
     "data": {
      "text/html": [
       "<style type=\"text/css\">\n",
       "#T_ef84c th {\n",
       "  color: white;\n",
       "  background-color: #0077b6;\n",
       "  padding: 10px;\n",
       "}\n",
       "#T_ef84c td {\n",
       "  text-align: center;\n",
       "  padding: 8px;\n",
       "}\n",
       "#T_ef84c_row0_col0, #T_ef84c_row0_col1, #T_ef84c_row1_col0, #T_ef84c_row1_col1, #T_ef84c_row2_col0, #T_ef84c_row2_col1, #T_ef84c_row3_col0, #T_ef84c_row3_col1, #T_ef84c_row4_col0, #T_ef84c_row4_col1 {\n",
       "  border: 1px solid #ddd;\n",
       "}\n",
       "</style>\n",
       "<table id=\"T_ef84c\">\n",
       "  <thead>\n",
       "    <tr>\n",
       "      <th id=\"T_ef84c_level0_col0\" class=\"col_heading level0 col0\" >review</th>\n",
       "      <th id=\"T_ef84c_level0_col1\" class=\"col_heading level0 col1\" >sentiment</th>\n",
       "    </tr>\n",
       "  </thead>\n",
       "  <tbody>\n",
       "    <tr>\n",
       "      <td id=\"T_ef84c_row0_col0\" class=\"data row0 col0\" >Starts really well, nice intro and build up for the main characters but after about 5 minutes, the charm is lost.<br /><br />The character is in the same mould as the main protagonist from American Pie and Loser without the supporting cast or innovative storyline that made the Pie movies more of a commercial success.<br /><br />Let's be honest - Heder's acting was pretty poor. Keaton, Daniels and Faris did their best but had no substantial plot or script to get their teeth into The movie just plods on without any pace or clear logical storyline justifying its length.<br /><br />The ending is about as predictable as they come - so predictable I've ticked the spoilers box for this one line.<br /><br />My advice: avoid at all costs unless you really really have nothing else to do/listen to or watch and even then you'll feel the producers just cheated you out of an hour and a half of your life.</td>\n",
       "      <td id=\"T_ef84c_row0_col1\" class=\"data row0 col1\" >negative</td>\n",
       "    </tr>\n",
       "    <tr>\n",
       "      <td id=\"T_ef84c_row1_col0\" class=\"data row1 col0\" >Terrific movie: If you did not watch yet, you must watch. Geena Davis and Samuel L. Jackson are amazing in this movie.<br /><br />Great actors + good story + incredible action scenes > \"The Long Kiss Goodnight\" <br /><br />I give it a 10, A+, 4 stars.</td>\n",
       "      <td id=\"T_ef84c_row1_col1\" class=\"data row1 col1\" >positive</td>\n",
       "    </tr>\n",
       "    <tr>\n",
       "      <td id=\"T_ef84c_row2_col0\" class=\"data row2 col0\" >I've seen hundreds of silent movies. Some will always be classics (such as Nosferatu, Metropolis, The General and Wings) but among them, my favorite is this film (it may not be the best--but a favorite, yes). In fact, when I looked it up on IMDb, I noticed I immediately laughed to myself because the movie was so gosh-darn cute and well-made. Marion Davies proved with this movie she really had great talent and was not JUST William Randolph Hearst's mistress.<br /><br />The story involves a hick from Georgia coming to Hollywood with every expectation that she would be an instant star! Her experiences and the interesting cameos of stars of the era make this a real treat for movie buffs and a must-see!</td>\n",
       "      <td id=\"T_ef84c_row2_col1\" class=\"data row2 col1\" >positive</td>\n",
       "    </tr>\n",
       "    <tr>\n",
       "      <td id=\"T_ef84c_row3_col0\" class=\"data row3 col0\" >i had been looking for this film for so long before i found it, i had seen it when i was younger and loved it, after my second viewing i still loved it and i still do.<br /><br />this is a love/hate film, if you like bottom, young ones, the comic strip, then you will find this funny. If you don't like that kind of humour then don't bother. I love this film and have grown up with these comedy programmes, for me this film is simply placing their comic genius on the big screen.. It is not an award winner by any means but if you just want good wholesome slapstick then this is it!<br /><br />the film lacks the quality of the TV series and this is usually the case with films but it still has enough material to keep you laughing even if a lot of the jokes are pretty similar to their previous work.<br /><br />yes, the humour is a little childish and not to everyone's taste but sometimes you just need that in a film.</td>\n",
       "      <td id=\"T_ef84c_row3_col1\" class=\"data row3 col1\" >positive</td>\n",
       "    </tr>\n",
       "    <tr>\n",
       "      <td id=\"T_ef84c_row4_col0\" class=\"data row4 col0\" >Good: Engaging cinematic firefights, great presentation, vehicles are actually fun to drive, fairly appealing multiplayer, faithful to the movie, and the list goes on.<br /><br />Bad: Main missions are a bit short.<br /><br />This game defines what a \"good\" third person shooter(not necessarily a spy-game) is. Great firefights carry on the story and make you want to complete EVERY single mission through, and unlock all the genuine bonuses the game has to offer. The hype this game had, was lived up to, and I personally think you should buy it, and hook up with a couple of friends and play this one. Loads of fun. <br /><br />The sound in this game, is a rip-roaring achievement from a few previous bond games, and firing a weapon, really feels like you're firing a weapon. It ties in with the aspect that you are a deadly and ruthless spy.<br /><br />All in all, this game makes you excited and satisfied after you make it through, and some multiplayer that can compete with the standards of the crafty James Bond \"Nightfire\" game for gamecube.</td>\n",
       "      <td id=\"T_ef84c_row4_col1\" class=\"data row4 col1\" >positive</td>\n",
       "    </tr>\n",
       "  </tbody>\n",
       "</table>\n"
      ],
      "text/plain": [
       "<IPython.core.display.HTML object>"
      ]
     },
     "metadata": {},
     "output_type": "display_data"
    },
    {
     "data": {
      "text/html": [
       "\n",
       "    <p style=\"\n",
       "        background-color: #0077b6;\n",
       "        font-family: Arial, sans-serif;\n",
       "        font-size: 20px;\n",
       "        font-weight: bold;\n",
       "        color: white;\n",
       "        text-align: center;\n",
       "        border-radius: 8px;\n",
       "        padding: 12px;\n",
       "        box-shadow: 2px 2px 5px rgba(0, 0, 0, 0.2);\n",
       "        width: fit-content;\n",
       "        margin: 10px auto;\n",
       "    \">\n",
       "        🚫 Missing Values\n",
       "    </p>\n",
       "    "
      ],
      "text/plain": [
       "<IPython.core.display.HTML object>"
      ]
     },
     "metadata": {},
     "output_type": "display_data"
    },
    {
     "data": {
      "text/html": [
       "<p style='text-align:center; font-weight:bold;'>✅ No missing values in the dataset.</p>"
      ],
      "text/plain": [
       "<IPython.core.display.HTML object>"
      ]
     },
     "metadata": {},
     "output_type": "display_data"
    },
    {
     "data": {
      "text/html": [
       "\n",
       "    <p style=\"\n",
       "        background-color: #0077b6;\n",
       "        font-family: Arial, sans-serif;\n",
       "        font-size: 20px;\n",
       "        font-weight: bold;\n",
       "        color: white;\n",
       "        text-align: center;\n",
       "        border-radius: 8px;\n",
       "        padding: 12px;\n",
       "        box-shadow: 2px 2px 5px rgba(0, 0, 0, 0.2);\n",
       "        width: fit-content;\n",
       "        margin: 10px auto;\n",
       "    \">\n",
       "        ♻️ Duplicate Records\n",
       "    </p>\n",
       "    "
      ],
      "text/plain": [
       "<IPython.core.display.HTML object>"
      ]
     },
     "metadata": {},
     "output_type": "display_data"
    },
    {
     "data": {
      "text/html": [
       "<p style='text-align:center; font-weight:bold;'>🔄 12 duplicate rows found.</p>"
      ],
      "text/plain": [
       "<IPython.core.display.HTML object>"
      ]
     },
     "metadata": {},
     "output_type": "display_data"
    },
    {
     "data": {
      "text/html": [
       "\n",
       "    <p style=\"\n",
       "        background-color: #0077b6;\n",
       "        font-family: Arial, sans-serif;\n",
       "        font-size: 20px;\n",
       "        font-weight: bold;\n",
       "        color: white;\n",
       "        text-align: center;\n",
       "        border-radius: 8px;\n",
       "        padding: 12px;\n",
       "        box-shadow: 2px 2px 5px rgba(0, 0, 0, 0.2);\n",
       "        width: fit-content;\n",
       "        margin: 10px auto;\n",
       "    \">\n",
       "        📏 Dataset Shape\n",
       "    </p>\n",
       "    "
      ],
      "text/plain": [
       "<IPython.core.display.HTML object>"
      ]
     },
     "metadata": {},
     "output_type": "display_data"
    },
    {
     "data": {
      "text/html": [
       "<p style='text-align:center; font-weight:bold;'>Rows: 10000, Columns: 2</p>"
      ],
      "text/plain": [
       "<IPython.core.display.HTML object>"
      ]
     },
     "metadata": {},
     "output_type": "display_data"
    },
    {
     "data": {
      "text/html": [
       "\n",
       "    <p style=\"\n",
       "        background-color: #0077b6;\n",
       "        font-family: Arial, sans-serif;\n",
       "        font-size: 20px;\n",
       "        font-weight: bold;\n",
       "        color: white;\n",
       "        text-align: center;\n",
       "        border-radius: 8px;\n",
       "        padding: 12px;\n",
       "        box-shadow: 2px 2px 5px rgba(0, 0, 0, 0.2);\n",
       "        width: fit-content;\n",
       "        margin: 10px auto;\n",
       "    \">\n",
       "        🔢 Value Counts\n",
       "    </p>\n",
       "    "
      ],
      "text/plain": [
       "<IPython.core.display.HTML object>"
      ]
     },
     "metadata": {},
     "output_type": "display_data"
    },
    {
     "data": {
      "text/html": [
       "<p style='text-align:center; font-weight:bold;'>negative: 5000</p><p style='text-align:center; font-weight:bold;'>positive: 5000</p>"
      ],
      "text/plain": [
       "<IPython.core.display.HTML object>"
      ]
     },
     "metadata": {},
     "output_type": "display_data"
    }
   ],
   "source": [
    "def styled_heading(text, background_color='#0077b6', text_color='white'):\n",
    "    return f\"\"\"\n",
    "    <p style=\"\n",
    "        background-color: {background_color};\n",
    "        font-family: Arial, sans-serif;\n",
    "        font-size: 20px;\n",
    "        font-weight: bold;\n",
    "        color: {text_color};\n",
    "        text-align: center;\n",
    "        border-radius: 8px;\n",
    "        padding: 12px;\n",
    "        box-shadow: 2px 2px 5px rgba(0, 0, 0, 0.2);\n",
    "        width: fit-content;\n",
    "        margin: 10px auto;\n",
    "    \">\n",
    "        {text}\n",
    "    </p>\n",
    "    \"\"\"\n",
    "def style_table(df):\n",
    "    return df.style.set_table_styles([\n",
    "        {\"selector\": \"th\", \"props\": [(\"color\", \"white\"), (\"background-color\", \"#0077b6\"), (\"padding\", \"10px\")]},\n",
    "        {\"selector\": \"td\", \"props\": [(\"text-align\", \"center\"), (\"padding\", \"8px\")]} \n",
    "    ]).set_properties(**{\"border\": \"1px solid #ddd\"}).hide(axis=\"index\").to_html()\n",
    "\n",
    "def print_dataset_analysis(df, n_top=5, heading_color='#0077b6', text_color='white'):\n",
    "    display(HTML(styled_heading(\"📊 Basic Overview of Data\", heading_color, text_color)))\n",
    "    display(HTML(style_table(df.head(n_top))))\n",
    "    \n",
    "    display(HTML(styled_heading(\"🚫 Missing Values\", heading_color, text_color)))\n",
    "    null_counts = df.isnull().sum()\n",
    "    if null_counts.sum() == 0:\n",
    "        display(HTML(\"<p style='text-align:center; font-weight:bold;'>✅ No missing values in the dataset.</p>\"))\n",
    "    else:\n",
    "        display(HTML(style_table(null_counts[null_counts > 0].to_frame(name='Missing Count'))))\n",
    "    \n",
    "    display(HTML(styled_heading(\"♻️ Duplicate Records\", heading_color, text_color)))\n",
    "    duplicates = df.duplicated().sum()\n",
    "    display(HTML(f\"<p style='text-align:center; font-weight:bold;'>🔄 {duplicates} duplicate rows found.</p>\"))\n",
    "    \n",
    "    display(HTML(styled_heading(\"📏 Dataset Shape\", heading_color, text_color)))\n",
    "    display(HTML(f\"<p style='text-align:center; font-weight:bold;'>Rows: {df.shape[0]}, Columns: {df.shape[1]}</p>\"))\n",
    "\n",
    "def print_value_counts(df, target_column, heading_color='#0077b6', text_color='white'):\n",
    "    display(HTML(styled_heading(\"🔢 Value Counts\", heading_color, text_color)))\n",
    "    if target_column in df.columns:\n",
    "        value_counts = df[target_column].value_counts()\n",
    "        formatted_counts = \"\".join(f\"<p style='text-align:center; font-weight:bold;'>{index}: {count}</p>\" for index, count in value_counts.items())\n",
    "        display(HTML(formatted_counts))\n",
    "    else:\n",
    "        display(HTML(f\"<p style='text-align:center; font-weight:bold; color:red;'>⚠️ Column '{target_column}' not found in dataset.</p>\"))\n",
    "\n",
    "print_dataset_analysis(df,n_top=5)\n",
    "print_value_counts(df,'sentiment')"
   ]
  },
  {
   "cell_type": "code",
   "execution_count": 9,
   "metadata": {},
   "outputs": [],
   "source": [
    "df=df.drop_duplicates()"
   ]
  },
  {
   "cell_type": "code",
   "execution_count": 11,
   "metadata": {},
   "outputs": [
    {
     "name": "stdout",
     "output_type": "stream",
     "text": [
      "Index(['review', 'sentiment'], dtype='object')\n"
     ]
    }
   ],
   "source": [
    "# stop words to be removed later\n",
    "custom_stopwords = set(stopwords.words('english'))  \n",
    "# Make sure 'review' is a valid column name\n",
    "print(df.columns)"
   ]
  },
  {
   "cell_type": "code",
   "execution_count": 13,
   "metadata": {},
   "outputs": [
    {
     "name": "stdout",
     "output_type": "stream",
     "text": [
      "                                              review  \\\n",
      "0  Starts really well, nice intro and build up fo...   \n",
      "1  Terrific movie: If you did not watch yet, you ...   \n",
      "2  I've seen hundreds of silent movies. Some will...   \n",
      "3  i had been looking for this film for so long b...   \n",
      "4  Good: Engaging cinematic firefights, great pre...   \n",
      "5  I say this. If you want to see art, you go to ...   \n",
      "6  Hey, it's only TV. Sure, it's STAR TREK, the m...   \n",
      "7  this movie has lot of downsides and thats all ...   \n",
      "8  How can you tell that a horror movie is terrib...   \n",
      "9  Brian De Palma's undeniable virtuosity can't r...   \n",
      "\n",
      "                                    processed_review  \n",
      "0  start really well nice intro build main charac...  \n",
      "1  terrific movie watch yet must watch geena davi...  \n",
      "2  seen hundred silent movie always classic nosfe...  \n",
      "3  looking film long found seen younger loved sec...  \n",
      "4  good engaging cinematic firefights great prese...  \n",
      "5  say want see art go art gallery want see movie...  \n",
      "6  hey tv sure star trek beloved bla bla great on...  \n",
      "7  movie lot downside thats could see painfully l...  \n",
      "8  tell horror movie terrible stop laughing cours...  \n",
      "9  brian de palma undeniable virtuosity really ca...  \n"
     ]
    }
   ],
   "source": [
    "def preprocess_text(text):\n",
    "    if isinstance(text, str):  # Ensure text is a string\n",
    "        ## REMOVE HTML\n",
    "        if \"<\" in text and \">\" in text:\n",
    "            text = BeautifulSoup(text, \"html.parser\").get_text()\n",
    "        ## CLEANING\n",
    "        # Remove special characters\n",
    "        text = re.sub(r'\\W+', ' ', text)  \n",
    "        # Remove digits\n",
    "        text = re.sub(r'\\d+', '', text)\n",
    "        ## LOWERCASING\n",
    "        text = text.lower()\n",
    "        ## TOKENIZATION\n",
    "        words = text.split()\n",
    "        ## REMOVE STOPWORDS\n",
    "        words = [w for w in words if w not in custom_stopwords] \n",
    "        ## APPLY LEMMATIZATION\n",
    "        words = [lemmatizer.lemmatize(w) for w in words]\n",
    "        ## RETURN CLEANED TEXT\n",
    "        return ' '.join(words)\n",
    "    return \"\"\n",
    "# Apply preprocessing\n",
    "df['processed_review'] = df['review'].apply(preprocess_text)\n",
    "# Show original vs processed text\n",
    "print(df[['review', 'processed_review']].head(10))  "
   ]
  },
  {
   "cell_type": "code",
   "execution_count": 15,
   "metadata": {},
   "outputs": [
    {
     "data": {
      "image/png": "[encoded data removed]",
      "text/plain": [
       "<Figure size 1000x500 with 1 Axes>"
      ]
     },
     "metadata": {},
     "output_type": "display_data"
    }
   ],
   "source": [
    "# BAG OF WORDS ASSUMPTION\n",
    "word_counts = Counter(\" \".join(df[\"processed_review\"]).split())\n",
    "# Get word frequencies\n",
    "occurrences_values = list(word_counts.values())\n",
    "\n",
    "# Plot histogram to help decide the threshold that will be used to remove rare words later\n",
    "# threshold here is the minimum number of occurrences for one word so that it will not be considered as a rare word\n",
    "plt.figure(figsize=(10, 5))\n",
    "plt.hist(occurrences_values, bins=range(1, 21), edgecolor='black')  # Only show words appearing ≤ 20 times \n",
    "plt.yscale('log')  # Log scale helps visualize better\n",
    "plt.xlabel(\"Number of Occurrences\")\n",
    "plt.ylabel(\"Number of Words\")\n",
    "plt.title(\"Word Occurrences Distribution\")\n",
    "plt.show()"
   ]
  },
  {
   "cell_type": "code",
   "execution_count": 19,
   "metadata": {},
   "outputs": [
    {
     "name": "stdout",
     "output_type": "stream",
     "text": [
      "                                    processed_review  \\\n",
      "0  start really well nice intro build main charac...   \n",
      "1  terrific movie watch yet must watch geena davi...   \n",
      "2  seen hundred silent movie always classic nosfe...   \n",
      "3  looking film long found seen younger loved sec...   \n",
      "4  good engaging cinematic firefights great prese...   \n",
      "5  say want see art go art gallery want see movie...   \n",
      "6  hey tv sure star trek beloved bla bla great on...   \n",
      "7  movie lot downside thats could see painfully l...   \n",
      "8  tell horror movie terrible stop laughing cours...   \n",
      "9  brian de palma undeniable virtuosity really ca...   \n",
      "\n",
      "                                   processed_review2  \n",
      "0  start really well nice intro build main charac...  \n",
      "1  terrific movie watch yet must watch geena davi...  \n",
      "2  seen hundred silent movie always classic nosfe...  \n",
      "3  looking film long found seen younger loved sec...  \n",
      "4  good engaging cinematic great presentation veh...  \n",
      "5  say want see art go art gallery want see movie...  \n",
      "6  hey tv sure star trek beloved bla bla great on...  \n",
      "7  movie lot downside thats could see painfully l...  \n",
      "8  tell horror movie terrible stop laughing cours...  \n",
      "9  brian de palma undeniable really fact plot thi...  \n"
     ]
    }
   ],
   "source": [
    "## REMOVE RARE WORDS\n",
    "# Most words appear very few times (1-5 occurrences)\n",
    "# The count drops significantly as frequency increases  \n",
    "# we will take a threshold of 4 which Keeps moderately rare words that might still carry meaning but Removes very infrequent words that could add noise\n",
    "\n",
    "threshold = 4\n",
    "# Identify rare words\n",
    "rare_words = {w for w, c in word_counts.items() if c <= threshold}  \n",
    "\n",
    "def remove_rare_words(text):\n",
    "    if isinstance(text, str):  # Ensure text is a string\n",
    "        words = text.split()\n",
    "        return ' '.join([w for w in words if w not in rare_words])\n",
    "    return \"\"\n",
    "\n",
    "# Apply to dataset\n",
    "df['processed_review2'] = df['processed_review'].apply(remove_rare_words)\n",
    "\n",
    "# Check results\n",
    "print(df[['processed_review', 'processed_review2']].head(10))"
   ]
  },
  {
   "cell_type": "code",
   "execution_count": 21,
   "metadata": {},
   "outputs": [
    {
     "name": "stdout",
     "output_type": "stream",
     "text": [
      "Training set size: 7990\n",
      "Testing set size: 1998\n",
      "Training Data:\n",
      "                                                 review sentiment\n",
      "9527  film look like director forced make movie gang...  negative\n",
      "2168  astonished major comment ok surf film really s...  negative\n",
      "6268  bullet may bounced chest lone ranger every bit...  positive\n",
      "4777  wow film bloody horrid bad fact even though pa...  negative\n",
      "8358  seen thousand movie never written review red e...  negative\n",
      "\n",
      "Testing Data:\n",
      "                                                 review sentiment\n",
      "1558  well take j simpson american soldier turned am...  positive\n",
      "3057  director bring material need right nudge right...  positive\n",
      "8236  harold pinter rewrite anthony classic play man...  negative\n",
      "5357  liked best feature length animated film great ...  positive\n",
      "35    big fan stephen king work film made even great...  positive\n"
     ]
    }
   ],
   "source": [
    "X = df['processed_review2']  \n",
    "y = df['sentiment']  \n",
    "\n",
    "X_train, X_test, y_train, y_test = train_test_split(X, y, test_size=0.2, random_state=42)\n",
    "\n",
    "print(\"Training set size:\", len(X_train))\n",
    "print(\"Testing set size:\", len(X_test))\n",
    "\n",
    "# ////////////////////////////////\n",
    "print(\"Training Data:\")\n",
    "print(pd.DataFrame({'review': X_train, 'sentiment': y_train}).head())\n",
    "\n",
    "print(\"\\nTesting Data:\")\n",
    "print(pd.DataFrame({'review': X_test, 'sentiment': y_test}).head())"
   ]
  },
  {
   "cell_type": "code",
   "execution_count": null,
   "metadata": {},
   "outputs": [],
   "source": []
  }
 ],
 "metadata": {
  "kernelspec": {
   "display_name": "Python 3 (ipykernel)",
   "language": "python",
   "name": "python3"
  },
  "language_info": {
   "codemirror_mode": {
    "name": "ipython",
    "version": 3
   },
   "file_extension": ".py",
   "mimetype": "text/x-python",
   "name": "python",
   "nbconvert_exporter": "python",
   "pygments_lexer": "ipython3",
   "version": "3.12.7"
  }
 },
 "nbformat": 4,
 "nbformat_minor": 4
}
