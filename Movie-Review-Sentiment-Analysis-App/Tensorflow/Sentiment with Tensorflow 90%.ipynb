{
 "cells": [
  {
   "cell_type": "code",
   "execution_count": 1,
   "metadata": {},
   "outputs": [],
   "source": [
    "import pandas as pd\n",
    "import numpy as np\n",
    "import re\n",
    "from bs4 import BeautifulSoup\n",
    "from IPython.display import display, HTML\n",
    "from sklearn.model_selection import train_test_split\n",
    "from nltk.stem import PorterStemmer\n",
    "from nltk.corpus import stopwords\n",
    "from nltk.stem import WordNetLemmatizer\n",
    "from collections import Counter\n",
    "import matplotlib.pyplot as plt\n",
    "from sklearn.model_selection import train_test_split\n",
    "lemmatizer = WordNetLemmatizer()\n",
    "stemmer = PorterStemmer()\n",
    "\n",
    "from tensorflow.keras.preprocessing.text import Tokenizer\n",
    "from tensorflow.keras.preprocessing.sequence import pad_sequences\n",
    "from sklearn.model_selection import train_test_split\n",
    "# Neural Network lib\n",
    "from tensorflow.keras.layers import Dense, Embedding, Dropout, GlobalAveragePooling1D\n",
    "from tensorflow.keras.layers import LSTM, Bidirectional, SpatialDropout1D ,ELU\n",
    "from tensorflow.keras.layers import BatchNormalization, Dropout ,Conv1D,GlobalMaxPooling1D\n",
    "from tensorflow.keras.regularizers import l2\n",
    "from tensorflow.keras.optimizers import Adam\n",
    "import tensorflow.keras as keras\n",
    "import pickle"
   ]
  },
  {
   "cell_type": "code",
   "execution_count": 2,
   "metadata": {},
   "outputs": [],
   "source": [
    "df = pd.read_csv(\"IMDB Dataset.csv\")\n",
    "df=df.sample(n=35000,random_state=42)"
   ]
  },
  {
   "cell_type": "code",
   "execution_count": 3,
   "metadata": {},
   "outputs": [
    {
     "data": {
      "text/html": [
       "\n",
       "    <p style=\"\n",
       "        background-color: #0077b6;\n",
       "        font-family: Arial, sans-serif;\n",
       "        font-size: 20px;\n",
       "        font-weight: bold;\n",
       "        color: white;\n",
       "        text-align: center;\n",
       "        border-radius: 8px;\n",
       "        padding: 12px;\n",
       "        box-shadow: 2px 2px 5px rgba(0, 0, 0, 0.2);\n",
       "        width: fit-content;\n",
       "        margin: 10px auto;\n",
       "    \">\n",
       "        📊 Basic Overview of Data\n",
       "    </p>\n",
       "    "
      ],
      "text/plain": [
       "<IPython.core.display.HTML object>"
      ]
     },
     "metadata": {},
     "output_type": "display_data"
    },
    {
     "data": {
      "text/html": [
       "<style type=\"text/css\">\n",
       "#T_8bcb5 th {\n",
       "  color: white;\n",
       "  background-color: #0077b6;\n",
       "  padding: 10px;\n",
       "}\n",
       "#T_8bcb5 td {\n",
       "  text-align: center;\n",
       "  padding: 8px;\n",
       "}\n",
       "#T_8bcb5_row0_col0, #T_8bcb5_row0_col1, #T_8bcb5_row1_col0, #T_8bcb5_row1_col1, #T_8bcb5_row2_col0, #T_8bcb5_row2_col1, #T_8bcb5_row3_col0, #T_8bcb5_row3_col1, #T_8bcb5_row4_col0, #T_8bcb5_row4_col1 {\n",
       "  border: 1px solid #ddd;\n",
       "}\n",
       "</style>\n",
       "<table id=\"T_8bcb5\">\n",
       "  <thead>\n",
       "    <tr>\n",
       "      <th id=\"T_8bcb5_level0_col0\" class=\"col_heading level0 col0\" >review</th>\n",
       "      <th id=\"T_8bcb5_level0_col1\" class=\"col_heading level0 col1\" >sentiment</th>\n",
       "    </tr>\n",
       "  </thead>\n",
       "  <tbody>\n",
       "    <tr>\n",
       "      <td id=\"T_8bcb5_row0_col0\" class=\"data row0 col0\" >I really liked this Summerslam due to the look of the arena, the curtains and just the look overall was interesting to me for some reason. Anyways, this could have been one of the best Summerslam's ever if the WWF didn't have Lex Luger in the main event against Yokozuna, now for it's time it was ok to have a huge fat man vs a strong man but I'm glad times have changed. It was a terrible main event just like every match Luger is in is terrible. Other matches on the card were Razor Ramon vs Ted Dibiase, Steiner Brothers vs Heavenly Bodies, Shawn Michaels vs Curt Hening, this was the event where Shawn named his big monster of a body guard Diesel, IRS vs 1-2-3 Kid, Bret Hart first takes on Doink then takes on Jerry Lawler and stuff with the Harts and Lawler was always very interesting, then Ludvig Borga destroyed Marty Jannetty, Undertaker took on Giant Gonzalez in another terrible match, The Smoking Gunns and Tatanka took on Bam Bam Bigelow and the Headshrinkers, and Yokozuna defended the world title against Lex Luger this match was boring and it has a terrible ending. However it deserves 8/10</td>\n",
       "      <td id=\"T_8bcb5_row0_col1\" class=\"data row0 col1\" >positive</td>\n",
       "    </tr>\n",
       "    <tr>\n",
       "      <td id=\"T_8bcb5_row1_col0\" class=\"data row1 col0\" >Not many television shows appeal to quite as many different kinds of fans like Farscape does...I know youngsters and 30/40+ years old;fans both Male and Female in as many different countries as you can think of that just adore this T.V miniseries. It has elements that can be found in almost every other show on T.V, character driven drama that could be from an Australian soap opera; yet in the same episode it has science fact & fiction that would give even the hardiest \"Trekkie\" a run for his money in the brainbender stakes! Wormhole theory, Time Travel in true equational form...Magnificent. It embraces cultures from all over the map as the possibilities are endless having multiple stars and therefore thousands of planets to choose from.<br /><br />With such a broad scope; it would be expected that nothing would be able to keep up the illusion for long, but here is where \"Farscape\" really comes into it's own element...It succeeds where all others have failed, especially the likes of Star Trek (a universe with practically zero Kaos element!) They ran out of ideas pretty quickly + kept rehashing them! Over the course of 4 seasons they manage to keep the audience's attention using good continuity and constant character evolution with multiple threads to every episode with unique personal touches to camera that are specific to certain character groups within the whole. This structure allows for an extremely large area of subject matter as loyalties are forged and broken in many ways on many many issues. I happened to see the pilot (Premiere) in passing and just had to keep tuning in after that to see if Crichton would ever \"Get the girl\", after seeing them all on television I was delighted to see them available on DVD & I have to admit that it was the only thing that kept me sane whilst I had to do a 12 hour night shift and developed chronic insomnia...Farscape was the only thing to get me through those extremely long nights...<br /><br />Do yourself a favour; Watch the pilot and see what I mean...<br /><br />Farscape Comet</td>\n",
       "      <td id=\"T_8bcb5_row1_col1\" class=\"data row1 col1\" >positive</td>\n",
       "    </tr>\n",
       "    <tr>\n",
       "      <td id=\"T_8bcb5_row2_col0\" class=\"data row2 col0\" >The film quickly gets to a major chase scene with ever increasing destruction. The first really bad thing is the guy hijacking Steven Seagal would have been beaten to pulp by Seagal's driving, but that probably would have ended the whole premise for the movie.<br /><br />It seems like they decided to make all kinds of changes in the movie plot, so just plan to enjoy the action, and do not expect a coherent plot. Turn any sense of logic you may have, it will reduce your chance of getting a headache.<br /><br />I does give me some hope that Steven Seagal is trying to move back towards the type of characters he portrayed in his more popular movies.</td>\n",
       "      <td id=\"T_8bcb5_row2_col1\" class=\"data row2 col1\" >negative</td>\n",
       "    </tr>\n",
       "    <tr>\n",
       "      <td id=\"T_8bcb5_row3_col0\" class=\"data row3 col0\" >Jane Austen would definitely approve of this one!<br /><br />Gwyneth Paltrow does an awesome job capturing the attitude of Emma. She is funny without being excessively silly, yet elegant. She puts on a very convincing British accent (not being British myself, maybe I'm not the best judge, but she fooled me...she was also excellent in \"Sliding Doors\"...I sometimes forget she's American ~!). <br /><br />Also brilliant are Jeremy Northam and Sophie Thompson and Phyllida Law (Emma Thompson's sister and mother) as the Bates women. They nearly steal the show...and Ms. Law doesn't even have any lines!<br /><br />Highly recommended.</td>\n",
       "      <td id=\"T_8bcb5_row3_col1\" class=\"data row3 col1\" >positive</td>\n",
       "    </tr>\n",
       "    <tr>\n",
       "      <td id=\"T_8bcb5_row4_col0\" class=\"data row4 col0\" >Expectations were somewhat high for me when I went to see this movie, after all I thought Steve Carell could do no wrong coming off of great movies like Anchorman, The 40 Year-Old Virgin, and Little Miss Sunshine. Boy, was I wrong.<br /><br />I'll start with what is right with this movie: at certain points Steve Carell is allowed to be Steve Carell. There are a handful of moments in the film that made me laugh, and it's due almost entirely to him being given the wiggle-room to do his thing. He's an undoubtedly talented individual, and it's a shame that he signed on to what turned out to be, in my opinion, a total train-wreck.<br /><br />With that out of the way, I'll discuss what went horrifyingly wrong.<br /><br />The film begins with Dan Burns, a widower with three girls who is being considered for a nationally syndicated advice column. He prepares his girls for a family reunion, where his extended relatives gather for some time with each other.<br /><br />The family is high atop the list of things that make this an awful movie. No family behaves like this. It's almost as if they've been transported from Pleasantville or Leave it to Beaver. They are a caricature of what we think a family is when we're 7. It reaches the point where they become obnoxious and simply frustrating. Touch football, crossword puzzle competitions, family bowling, and talent shows ARE NOT HOW ACTUAL PEOPLE BEHAVE. It's almost sickening.<br /><br />Another big flaw is the woman Carell is supposed to be falling for. Observing her in her first scene with Steve Carell is like watching a stroke victim trying to be rehabilitated. What I imagine is supposed to be unique and original in this woman comes off as mildly retarded.<br /><br />It makes me think that this movie is taking place on another planet. I left the theater wondering what I just saw. After thinking further, I don't think it was much.</td>\n",
       "      <td id=\"T_8bcb5_row4_col1\" class=\"data row4 col1\" >negative</td>\n",
       "    </tr>\n",
       "  </tbody>\n",
       "</table>\n"
      ],
      "text/plain": [
       "<IPython.core.display.HTML object>"
      ]
     },
     "metadata": {},
     "output_type": "display_data"
    },
    {
     "data": {
      "text/html": [
       "\n",
       "    <p style=\"\n",
       "        background-color: #0077b6;\n",
       "        font-family: Arial, sans-serif;\n",
       "        font-size: 20px;\n",
       "        font-weight: bold;\n",
       "        color: white;\n",
       "        text-align: center;\n",
       "        border-radius: 8px;\n",
       "        padding: 12px;\n",
       "        box-shadow: 2px 2px 5px rgba(0, 0, 0, 0.2);\n",
       "        width: fit-content;\n",
       "        margin: 10px auto;\n",
       "    \">\n",
       "        🚫 Missing Values\n",
       "    </p>\n",
       "    "
      ],
      "text/plain": [
       "<IPython.core.display.HTML object>"
      ]
     },
     "metadata": {},
     "output_type": "display_data"
    },
    {
     "data": {
      "text/html": [
       "<p style='text-align:center; font-weight:bold;'>✅ No missing values in the dataset.</p>"
      ],
      "text/plain": [
       "<IPython.core.display.HTML object>"
      ]
     },
     "metadata": {},
     "output_type": "display_data"
    },
    {
     "data": {
      "text/html": [
       "\n",
       "    <p style=\"\n",
       "        background-color: #0077b6;\n",
       "        font-family: Arial, sans-serif;\n",
       "        font-size: 20px;\n",
       "        font-weight: bold;\n",
       "        color: white;\n",
       "        text-align: center;\n",
       "        border-radius: 8px;\n",
       "        padding: 12px;\n",
       "        box-shadow: 2px 2px 5px rgba(0, 0, 0, 0.2);\n",
       "        width: fit-content;\n",
       "        margin: 10px auto;\n",
       "    \">\n",
       "        ♻️ Duplicate Records\n",
       "    </p>\n",
       "    "
      ],
      "text/plain": [
       "<IPython.core.display.HTML object>"
      ]
     },
     "metadata": {},
     "output_type": "display_data"
    },
    {
     "data": {
      "text/html": [
       "<p style='text-align:center; font-weight:bold;'>🔄 215 duplicate rows found.</p>"
      ],
      "text/plain": [
       "<IPython.core.display.HTML object>"
      ]
     },
     "metadata": {},
     "output_type": "display_data"
    },
    {
     "data": {
      "text/html": [
       "\n",
       "    <p style=\"\n",
       "        background-color: #0077b6;\n",
       "        font-family: Arial, sans-serif;\n",
       "        font-size: 20px;\n",
       "        font-weight: bold;\n",
       "        color: white;\n",
       "        text-align: center;\n",
       "        border-radius: 8px;\n",
       "        padding: 12px;\n",
       "        box-shadow: 2px 2px 5px rgba(0, 0, 0, 0.2);\n",
       "        width: fit-content;\n",
       "        margin: 10px auto;\n",
       "    \">\n",
       "        📏 Dataset Shape\n",
       "    </p>\n",
       "    "
      ],
      "text/plain": [
       "<IPython.core.display.HTML object>"
      ]
     },
     "metadata": {},
     "output_type": "display_data"
    },
    {
     "data": {
      "text/html": [
       "<p style='text-align:center; font-weight:bold;'>Rows: 35000, Columns: 2</p>"
      ],
      "text/plain": [
       "<IPython.core.display.HTML object>"
      ]
     },
     "metadata": {},
     "output_type": "display_data"
    },
    {
     "data": {
      "text/html": [
       "\n",
       "    <p style=\"\n",
       "        background-color: #0077b6;\n",
       "        font-family: Arial, sans-serif;\n",
       "        font-size: 20px;\n",
       "        font-weight: bold;\n",
       "        color: white;\n",
       "        text-align: center;\n",
       "        border-radius: 8px;\n",
       "        padding: 12px;\n",
       "        box-shadow: 2px 2px 5px rgba(0, 0, 0, 0.2);\n",
       "        width: fit-content;\n",
       "        margin: 10px auto;\n",
       "    \">\n",
       "        🔢 Value Counts\n",
       "    </p>\n",
       "    "
      ],
      "text/plain": [
       "<IPython.core.display.HTML object>"
      ]
     },
     "metadata": {},
     "output_type": "display_data"
    },
    {
     "data": {
      "text/html": [
       "<p style='text-align:center; font-weight:bold;'>negative: 17517</p><p style='text-align:center; font-weight:bold;'>positive: 17483</p>"
      ],
      "text/plain": [
       "<IPython.core.display.HTML object>"
      ]
     },
     "metadata": {},
     "output_type": "display_data"
    }
   ],
   "source": [
    "def styled_heading(text, background_color='#0077b6', text_color='white'):\n",
    "    return f\"\"\"\n",
    "    <p style=\"\n",
    "        background-color: {background_color};\n",
    "        font-family: Arial, sans-serif;\n",
    "        font-size: 20px;\n",
    "        font-weight: bold;\n",
    "        color: {text_color};\n",
    "        text-align: center;\n",
    "        border-radius: 8px;\n",
    "        padding: 12px;\n",
    "        box-shadow: 2px 2px 5px rgba(0, 0, 0, 0.2);\n",
    "        width: fit-content;\n",
    "        margin: 10px auto;\n",
    "    \">\n",
    "        {text}\n",
    "    </p>\n",
    "    \"\"\"\n",
    "def style_table(df):\n",
    "    return df.style.set_table_styles([\n",
    "        {\"selector\": \"th\", \"props\": [(\"color\", \"white\"), (\"background-color\", \"#0077b6\"), (\"padding\", \"10px\")]},\n",
    "        {\"selector\": \"td\", \"props\": [(\"text-align\", \"center\"), (\"padding\", \"8px\")]} \n",
    "    ]).set_properties(**{\"border\": \"1px solid #ddd\"}).hide(axis=\"index\").to_html()\n",
    "\n",
    "def print_dataset_analysis(df, n_top=5, heading_color='#0077b6', text_color='white'):\n",
    "    display(HTML(styled_heading(\"📊 Basic Overview of Data\", heading_color, text_color)))\n",
    "    display(HTML(style_table(df.head(n_top))))\n",
    "    \n",
    "    display(HTML(styled_heading(\"🚫 Missing Values\", heading_color, text_color)))\n",
    "    null_counts = df.isnull().sum()\n",
    "    if null_counts.sum() == 0:\n",
    "        display(HTML(\"<p style='text-align:center; font-weight:bold;'>✅ No missing values in the dataset.</p>\"))\n",
    "    else:\n",
    "        display(HTML(style_table(null_counts[null_counts > 0].to_frame(name='Missing Count'))))\n",
    "    \n",
    "    display(HTML(styled_heading(\"♻️ Duplicate Records\", heading_color, text_color)))\n",
    "    duplicates = df.duplicated().sum()\n",
    "    display(HTML(f\"<p style='text-align:center; font-weight:bold;'>🔄 {duplicates} duplicate rows found.</p>\"))\n",
    "    \n",
    "    display(HTML(styled_heading(\"📏 Dataset Shape\", heading_color, text_color)))\n",
    "    display(HTML(f\"<p style='text-align:center; font-weight:bold;'>Rows: {df.shape[0]}, Columns: {df.shape[1]}</p>\"))\n",
    "\n",
    "def print_value_counts(df, target_column, heading_color='#0077b6', text_color='white'):\n",
    "    display(HTML(styled_heading(\"🔢 Value Counts\", heading_color, text_color)))\n",
    "    if target_column in df.columns:\n",
    "        value_counts = df[target_column].value_counts()\n",
    "        formatted_counts = \"\".join(f\"<p style='text-align:center; font-weight:bold;'>{index}: {count}</p>\" for index, count in value_counts.items())\n",
    "        display(HTML(formatted_counts))\n",
    "    else:\n",
    "        display(HTML(f\"<p style='text-align:center; font-weight:bold; color:red;'>⚠️ Column '{target_column}' not found in dataset.</p>\"))\n",
    "\n",
    "print_dataset_analysis(df,n_top=5)\n",
    "print_value_counts(df,'sentiment')"
   ]
  },
  {
   "cell_type": "code",
   "execution_count": 4,
   "metadata": {},
   "outputs": [],
   "source": [
    "df=df.drop_duplicates()"
   ]
  },
  {
   "cell_type": "code",
   "execution_count": 5,
   "metadata": {},
   "outputs": [
    {
     "name": "stdout",
     "output_type": "stream",
     "text": [
      "Index(['review', 'sentiment'], dtype='object')\n"
     ]
    }
   ],
   "source": [
    "# stop words to be removed later\n",
    "custom_stopwords = set(stopwords.words('english'))  \n",
    "# Make sure 'review' is a valid column name\n",
    "print(df.columns)"
   ]
  },
  {
   "cell_type": "code",
   "execution_count": 6,
   "metadata": {},
   "outputs": [
    {
     "name": "stdout",
     "output_type": "stream",
     "text": [
      "                                                  review  \\\n",
      "33553  I really liked this Summerslam due to the look...   \n",
      "9427   Not many television shows appeal to quite as m...   \n",
      "199    The film quickly gets to a major chase scene w...   \n",
      "12447  Jane Austen would definitely approve of this o...   \n",
      "39489  Expectations were somewhat high for me when I ...   \n",
      "42724  I've watched this movie on a fairly regular ba...   \n",
      "10822  For once a story of hope highlighted over the ...   \n",
      "49498  Okay, I didn't get the Purgatory thing the fir...   \n",
      "4144   I was very disappointed with this series. It h...   \n",
      "36958  The first 30 minutes of Tinseltown had my fing...   \n",
      "\n",
      "                                        processed_review  \n",
      "33553  really liked summerslam due look arena curtain...  \n",
      "9427   many television show appeal quite many differe...  \n",
      "199    film quickly get major chase scene ever increa...  \n",
      "12447  jane austen would definitely approve one gwyne...  \n",
      "39489  expectation somewhat high went see movie thoug...  \n",
      "42724  watched movie fairly regular basis life never ...  \n",
      "10822  story hope highlighted tragic reality youth fa...  \n",
      "49498  okay get purgatory thing first time watched ep...  \n",
      "4144   disappointed series lot cool graphic level det...  \n",
      "36958  first minute tinseltown finger teetering remot...  \n"
     ]
    }
   ],
   "source": [
    "def preprocess_text(text):\n",
    "    if isinstance(text, str):  # Ensure text is a string\n",
    "        ## REMOVE HTML\n",
    "        if \"<\" in text and \">\" in text:\n",
    "            text = BeautifulSoup(text, \"html.parser\").get_text()\n",
    "        ## CLEANING\n",
    "        # Remove special characters\n",
    "        text = re.sub(r'\\W+', ' ', text)  \n",
    "        # Remove digits\n",
    "        text = re.sub(r'\\d+', '', text)\n",
    "        ## LOWERCASING\n",
    "        text = text.lower()\n",
    "        ## TOKENIZATION\n",
    "        words = text.split()\n",
    "        ## REMOVE STOPWORDS\n",
    "        words = [w for w in words if w not in custom_stopwords] \n",
    "        ## APPLY LEMMATIZATION\n",
    "        words = [lemmatizer.lemmatize(w) for w in words]\n",
    "        ## RETURN CLEANED TEXT\n",
    "        return ' '.join(words)\n",
    "    return \"\"\n",
    "# Apply preprocessing\n",
    "df['processed_review'] = df['review'].apply(preprocess_text)\n",
    "# Show original vs processed text\n",
    "print(df[['review', 'processed_review']].head(10))  "
   ]
  },
  {
   "cell_type": "code",
   "execution_count": 7,
   "metadata": {},
   "outputs": [
    {
     "data": {
      "image/png": "[encoded data removed]",
      "text/plain": [
       "<Figure size 1000x500 with 1 Axes>"
      ]
     },
     "metadata": {},
     "output_type": "display_data"
    }
   ],
   "source": [
    "# BAG OF WORDS ASSUMPTION\n",
    "word_counts = Counter(\" \".join(df[\"processed_review\"]).split())\n",
    "# Get word frequencies\n",
    "occurrences_values = list(word_counts.values())\n",
    "\n",
    "# Plot histogram to help decide the threshold that will be used to remove rare words later\n",
    "# threshold here is the minimum number of occurrences for one word so that it will not be considered as a rare word\n",
    "plt.figure(figsize=(10, 5))\n",
    "plt.hist(occurrences_values, bins=range(1, 21), edgecolor='black')  # Only show words appearing ≤ 20 times \n",
    "plt.yscale('log')  # Log scale helps visualize better\n",
    "plt.xlabel(\"Number of Occurrences\")\n",
    "plt.ylabel(\"Number of Words\")\n",
    "plt.title(\"Word Occurrences Distribution\")\n",
    "plt.show()"
   ]
  },
  {
   "cell_type": "code",
   "execution_count": 8,
   "metadata": {},
   "outputs": [
    {
     "name": "stdout",
     "output_type": "stream",
     "text": [
      "                                        processed_review  \\\n",
      "33553  really liked summerslam due look arena curtain...   \n",
      "9427   many television show appeal quite many differe...   \n",
      "199    film quickly get major chase scene ever increa...   \n",
      "12447  jane austen would definitely approve one gwyne...   \n",
      "39489  expectation somewhat high went see movie thoug...   \n",
      "42724  watched movie fairly regular basis life never ...   \n",
      "10822  story hope highlighted tragic reality youth fa...   \n",
      "49498  okay get purgatory thing first time watched ep...   \n",
      "4144   disappointed series lot cool graphic level det...   \n",
      "36958  first minute tinseltown finger teetering remot...   \n",
      "\n",
      "                                       processed_review2  \n",
      "33553  really liked summerslam due look arena curtain...  \n",
      "9427   many television show appeal quite many differe...  \n",
      "199    film quickly get major chase scene ever increa...  \n",
      "12447  jane austen would definitely approve one gwyne...  \n",
      "39489  expectation somewhat high went see movie thoug...  \n",
      "42724  watched movie fairly regular basis life never ...  \n",
      "10822  story hope highlighted tragic reality youth fa...  \n",
      "49498  okay get purgatory thing first time watched ep...  \n",
      "4144   disappointed series lot cool graphic level det...  \n",
      "36958  first minute tinseltown finger teetering remot...  \n"
     ]
    }
   ],
   "source": [
    "## REMOVE RARE WORDS\n",
    "# Most words appear very few times (1-5 occurrences)\n",
    "# The count drops significantly as frequency increases  \n",
    "# we will take a threshold of 4 which Keeps moderately rare words that might still carry meaning but Removes very infrequent words that could add noise\n",
    "\n",
    "threshold = 4\n",
    "# Identify rare words\n",
    "rare_words = {w for w, c in word_counts.items() if c <= threshold}  \n",
    "\n",
    "def remove_rare_words(text):\n",
    "    if isinstance(text, str):  # Ensure text is a string\n",
    "        words = text.split()\n",
    "        return ' '.join([w for w in words if w not in rare_words])\n",
    "    return \"\"\n",
    "\n",
    "# Apply to dataset\n",
    "df['processed_review2'] = df['processed_review'].apply(remove_rare_words)\n",
    "\n",
    "# Check results\n",
    "print(df[['processed_review', 'processed_review2']].head(10))"
   ]
  },
  {
   "cell_type": "code",
   "execution_count": 9,
   "metadata": {},
   "outputs": [
    {
     "data": {
      "text/html": [
       "<div>\n",
       "<style scoped>\n",
       "    .dataframe tbody tr th:only-of-type {\n",
       "        vertical-align: middle;\n",
       "    }\n",
       "\n",
       "    .dataframe tbody tr th {\n",
       "        vertical-align: top;\n",
       "    }\n",
       "\n",
       "    .dataframe thead th {\n",
       "        text-align: right;\n",
       "    }\n",
       "</style>\n",
       "<table border=\"1\" class=\"dataframe\">\n",
       "  <thead>\n",
       "    <tr style=\"text-align: right;\">\n",
       "      <th></th>\n",
       "      <th>review</th>\n",
       "      <th>sentiment</th>\n",
       "      <th>processed_review</th>\n",
       "      <th>processed_review2</th>\n",
       "    </tr>\n",
       "  </thead>\n",
       "  <tbody>\n",
       "    <tr>\n",
       "      <th>33553</th>\n",
       "      <td>I really liked this Summerslam due to the look...</td>\n",
       "      <td>1</td>\n",
       "      <td>really liked summerslam due look arena curtain...</td>\n",
       "      <td>really liked summerslam due look arena curtain...</td>\n",
       "    </tr>\n",
       "    <tr>\n",
       "      <th>9427</th>\n",
       "      <td>Not many television shows appeal to quite as m...</td>\n",
       "      <td>1</td>\n",
       "      <td>many television show appeal quite many differe...</td>\n",
       "      <td>many television show appeal quite many differe...</td>\n",
       "    </tr>\n",
       "    <tr>\n",
       "      <th>199</th>\n",
       "      <td>The film quickly gets to a major chase scene w...</td>\n",
       "      <td>0</td>\n",
       "      <td>film quickly get major chase scene ever increa...</td>\n",
       "      <td>film quickly get major chase scene ever increa...</td>\n",
       "    </tr>\n",
       "    <tr>\n",
       "      <th>12447</th>\n",
       "      <td>Jane Austen would definitely approve of this o...</td>\n",
       "      <td>1</td>\n",
       "      <td>jane austen would definitely approve one gwyne...</td>\n",
       "      <td>jane austen would definitely approve one gwyne...</td>\n",
       "    </tr>\n",
       "    <tr>\n",
       "      <th>39489</th>\n",
       "      <td>Expectations were somewhat high for me when I ...</td>\n",
       "      <td>0</td>\n",
       "      <td>expectation somewhat high went see movie thoug...</td>\n",
       "      <td>expectation somewhat high went see movie thoug...</td>\n",
       "    </tr>\n",
       "  </tbody>\n",
       "</table>\n",
       "</div>"
      ],
      "text/plain": [
       "                                                  review sentiment  \\\n",
       "33553  I really liked this Summerslam due to the look...         1   \n",
       "9427   Not many television shows appeal to quite as m...         1   \n",
       "199    The film quickly gets to a major chase scene w...         0   \n",
       "12447  Jane Austen would definitely approve of this o...         1   \n",
       "39489  Expectations were somewhat high for me when I ...         0   \n",
       "\n",
       "                                        processed_review  \\\n",
       "33553  really liked summerslam due look arena curtain...   \n",
       "9427   many television show appeal quite many differe...   \n",
       "199    film quickly get major chase scene ever increa...   \n",
       "12447  jane austen would definitely approve one gwyne...   \n",
       "39489  expectation somewhat high went see movie thoug...   \n",
       "\n",
       "                                       processed_review2  \n",
       "33553  really liked summerslam due look arena curtain...  \n",
       "9427   many television show appeal quite many differe...  \n",
       "199    film quickly get major chase scene ever increa...  \n",
       "12447  jane austen would definitely approve one gwyne...  \n",
       "39489  expectation somewhat high went see movie thoug...  "
      ]
     },
     "execution_count": 9,
     "metadata": {},
     "output_type": "execute_result"
    }
   ],
   "source": [
    "df.loc[df['sentiment'] == 'positive', 'sentiment'] = 1\n",
    "df.loc[df['sentiment'] == 'negative', 'sentiment'] = 0\n",
    "df.head()"
   ]
  },
  {
   "cell_type": "code",
   "execution_count": 10,
   "metadata": {},
   "outputs": [],
   "source": [
    "X = df['processed_review2']  \n",
    "y = df['sentiment']"
   ]
  },
  {
   "cell_type": "code",
   "execution_count": 11,
   "metadata": {},
   "outputs": [
    {
     "data": {
      "text/plain": [
       "array([0., 1.], dtype=float32)"
      ]
     },
     "execution_count": 11,
     "metadata": {},
     "output_type": "execute_result"
    }
   ],
   "source": [
    "y = np.array(y, dtype=np.int32)\n",
    "label = np.eye(2, dtype=np.float32)[y]\n",
    "label[0]"
   ]
  },
  {
   "cell_type": "code",
   "execution_count": 12,
   "metadata": {},
   "outputs": [
    {
     "name": "stdout",
     "output_type": "stream",
     "text": [
      "The max sentence size is: 1128\n",
      "The shape of padding data: (34785, 1128)\n"
     ]
    }
   ],
   "source": [
    "tokenize = Tokenizer()\n",
    "tokenize.fit_on_texts(X)\n",
    "\n",
    "with open(\"tokenizer.pkl\", \"wb\") as handle:\n",
    "    pickle.dump(tokenize, handle, protocol=pickle.HIGHEST_PROTOCOL)\n",
    "\n",
    "token_sequance = tokenize.texts_to_sequences(X)\n",
    "max_sentince_size = max(len(i) for i in token_sequance)\n",
    "pad_data = pad_sequences(token_sequance, maxlen=max_sentince_size, padding='pre')\n",
    "\n",
    "print('The max sentence size is:', max_sentince_size)\n",
    "print('The shape of padding data:', pad_data.shape)"
   ]
  },
  {
   "cell_type": "code",
   "execution_count": 13,
   "metadata": {},
   "outputs": [
    {
     "name": "stdout",
     "output_type": "stream",
     "text": [
      "Max vocab size :  29908\n"
     ]
    }
   ],
   "source": [
    "voc_size = len(tokenize.word_index) + 1\n",
    "print('Max vocab size : ', voc_size)"
   ]
  },
  {
   "cell_type": "code",
   "execution_count": 14,
   "metadata": {},
   "outputs": [
    {
     "name": "stdout",
     "output_type": "stream",
     "text": [
      "Training set size: 27828\n",
      "Testing set size: 6957\n"
     ]
    }
   ],
   "source": [
    "X_train, X_test, y_train, y_test = train_test_split(pad_data, label, test_size=0.2, random_state=42)\n",
    "\n",
    "print(\"Training set size:\", len(X_train))\n",
    "print(\"Testing set size:\", len(X_test))"
   ]
  },
  {
   "cell_type": "code",
   "execution_count": null,
   "metadata": {},
   "outputs": [],
   "source": [
    "model = keras.models.Sequential([\n",
    "    Embedding(input_dim=voc_size, output_dim=max_sentince_size, input_length=max_sentince_size, mask_zero=True),\n",
    "    SpatialDropout1D(0.3),\n",
    "    GlobalAveragePooling1D(),\n",
    "    Dropout(0.5),\n",
    "    Dense(2, activation=\"softmax\", kernel_regularizer=l2(0.001))\n",
    "])\n",
    "\n",
    "model.build(input_shape=(None, max_sentince_size))\n",
    "model.compile(optimizer=Adam(learning_rate=0.0005), loss=\"categorical_crossentropy\", metrics=[\"accuracy\"])\n",
    "model.summary()"
   ]
  },
  {
   "cell_type": "code",
   "execution_count": 16,
   "metadata": {},
   "outputs": [],
   "source": [
    "from tensorflow.keras.callbacks import EarlyStopping, ReduceLROnPlateau, ModelCheckpoint\n",
    "early_stop = EarlyStopping(monitor='val_loss', patience=2)\n",
    "reduce_lr = ReduceLROnPlateau(monitor='val_loss', factor=0.3, patience=1, min_lr=0.00001)\n",
    "checkpoint = ModelCheckpoint(\"best_model.keras\", monitor=\"val_accuracy\", save_best_only=True, mode=\"max\", verbose=0)"
   ]
  },
  {
   "cell_type": "code",
   "execution_count": 17,
   "metadata": {},
   "outputs": [
    {
     "name": "stdout",
     "output_type": "stream",
     "text": [
      "Epoch 1/20\n",
      "\u001b[1m870/870\u001b[0m \u001b[32m━━━━━━━━━━━━━━━━━━━━\u001b[0m\u001b[37m\u001b[0m \u001b[1m929s\u001b[0m 1s/step - accuracy: 0.8080 - loss: 0.5342 - val_accuracy: 0.8869 - val_loss: 0.3317 - learning_rate: 5.0000e-04\n",
      "Epoch 2/20\n",
      "\u001b[1m870/870\u001b[0m \u001b[32m━━━━━━━━━━━━━━━━━━━━\u001b[0m\u001b[37m\u001b[0m \u001b[1m962s\u001b[0m 1s/step - accuracy: 0.9163 - loss: 0.2880 - val_accuracy: 0.8922 - val_loss: 0.3089 - learning_rate: 5.0000e-04\n",
      "Epoch 3/20\n",
      "\u001b[1m870/870\u001b[0m \u001b[32m━━━━━━━━━━━━━━━━━━━━\u001b[0m\u001b[37m\u001b[0m \u001b[1m901s\u001b[0m 1s/step - accuracy: 0.9369 - loss: 0.2439 - val_accuracy: 0.8967 - val_loss: 0.3015 - learning_rate: 5.0000e-04\n",
      "Epoch 4/20\n",
      "\u001b[1m870/870\u001b[0m \u001b[32m━━━━━━━━━━━━━━━━━━━━\u001b[0m\u001b[37m\u001b[0m \u001b[1m910s\u001b[0m 1s/step - accuracy: 0.9510 - loss: 0.2118 - val_accuracy: 0.8982 - val_loss: 0.2994 - learning_rate: 5.0000e-04\n",
      "Epoch 5/20\n",
      "\u001b[1m870/870\u001b[0m \u001b[32m━━━━━━━━━━━━━━━━━━━━\u001b[0m\u001b[37m\u001b[0m \u001b[1m874s\u001b[0m 1s/step - accuracy: 0.9589 - loss: 0.1933 - val_accuracy: 0.8968 - val_loss: 0.3007 - learning_rate: 5.0000e-04\n",
      "Epoch 6/20\n",
      "\u001b[1m870/870\u001b[0m \u001b[32m━━━━━━━━━━━━━━━━━━━━\u001b[0m\u001b[37m\u001b[0m \u001b[1m918s\u001b[0m 999ms/step - accuracy: 0.9660 - loss: 0.1737 - val_accuracy: 0.8965 - val_loss: 0.3013 - learning_rate: 1.5000e-04\n"
     ]
    }
   ],
   "source": [
    "history = model.fit(X_train, y_train, callbacks=[early_stop,reduce_lr,checkpoint], epochs=20, validation_data=(X_test, y_test))"
   ]
  },
  {
   "cell_type": "code",
   "execution_count": 40,
   "metadata": {},
   "outputs": [
    {
     "data": {
      "image/png": "[encoded data removed]",
      "text/plain": [
       "<Figure size 640x480 with 1 Axes>"
      ]
     },
     "metadata": {},
     "output_type": "display_data"
    }
   ],
   "source": [
    "plt.plot(history.history[\"accuracy\"] , label=\"accuracy\")\n",
    "plt.plot(history.history[\"val_accuracy\"], label=\"val_accuracy\")\n",
    "\n",
    "plt.xlabel(\"Epochs\")\n",
    "plt.ylabel(\"Accuracy\")\n",
    "\n",
    "plt.title(\"Accuracy Vs Epochs\")\n",
    "\n",
    "plt.legend()\n",
    "plt.grid()"
   ]
  },
  {
   "cell_type": "code",
   "execution_count": 42,
   "metadata": {},
   "outputs": [
    {
     "data": {
      "image/png": "[encoded data removed]",
      "text/plain": [
       "<Figure size 640x480 with 1 Axes>"
      ]
     },
     "metadata": {},
     "output_type": "display_data"
    }
   ],
   "source": [
    "plt.plot(history.history[\"loss\"], label=\"Loss\")\n",
    "plt.plot(history.history[\"val_loss\"], label=\"Val_Loss\")\n",
    "\n",
    "plt.xlabel(\"Epochs\")\n",
    "plt.ylabel(\"Loss\")\n",
    "\n",
    "plt.title(\"Loss Vs Epochs\")\n",
    "\n",
    "plt.legend()\n",
    "plt.grid()"
   ]
  },
  {
   "cell_type": "code",
   "execution_count": 20,
   "metadata": {},
   "outputs": [
    {
     "name": "stdout",
     "output_type": "stream",
     "text": [
      "\u001b[1m218/218\u001b[0m \u001b[32m━━━━━━━━━━━━━━━━━━━━\u001b[0m\u001b[37m\u001b[0m \u001b[1m28s\u001b[0m 121ms/step - accuracy: 0.9017 - loss: 0.3008\n"
     ]
    },
    {
     "data": {
      "text/plain": [
       "[0.2994433343410492, 0.8982319831848145]"
      ]
     },
     "execution_count": 20,
     "metadata": {},
     "output_type": "execute_result"
    }
   ],
   "source": [
    "from tensorflow.keras.models import load_model\n",
    "\n",
    "best_model = load_model(\"best_model.keras\")\n",
    "best_model.evaluate(X_test, y_test)"
   ]
  },
  {
   "cell_type": "code",
   "execution_count": 31,
   "metadata": {},
   "outputs": [
    {
     "name": "stdout",
     "output_type": "stream",
     "text": [
      "The shape of padding data: (10, 305)\n"
     ]
    }
   ],
   "source": [
    "token_sequance = tokenize.texts_to_sequences(X[:10])  # تحويل أول 10 جمل إلى تسلسل\n",
    "max_sentince_size = max(len(i) for i in token_sequance)  # تحديد طول الجمل بعد تحويلها\n",
    "\n",
    "# تعبئة البيانات لتصبح بنفس الحجم\n",
    "pad_data = pad_sequences(token_sequance, maxlen=max_sentince_size, padding='pre')\n",
    "\n",
    "# عرض الحجم للتأكد\n",
    "print('The shape of padding data:', pad_data.shape)"
   ]
  },
  {
   "cell_type": "code",
   "execution_count": 39,
   "metadata": {},
   "outputs": [
    {
     "name": "stdout",
     "output_type": "stream",
     "text": [
      "\u001b[1m1/1\u001b[0m \u001b[32m━━━━━━━━━━━━━━━━━━━━\u001b[0m\u001b[37m\u001b[0m \u001b[1m0s\u001b[0m 203ms/step\n",
      "Review 1: really liked summerslam due look arena curtain look overall interesting reason anyways could one best summerslam ever wwf lex luger main event yokozuna time ok huge fat man v strong man glad time changed terrible main event like every match luger terrible match card razor ramon v ted dibiase steiner brother v heavenly body shawn michael v curt event shawn named big monster body guard diesel irs v kid bret hart first take doink take jerry lawler stuff hart lawler always interesting destroyed marty undertaker took giant gonzalez another terrible match smoking tatanka took bam bam bigelow yokozuna defended world title lex luger match boring terrible ending however deserves\n",
      "Predicted Sentiment: Positive\n",
      "\n",
      "Review 2: many television show appeal quite many different kind fan like farscape know youngster year old fan male female many different country think adore v miniseries element found almost every show v character driven drama could australian soap opera yet episode science fact fiction would give even run money stake wormhole theory time travel true form magnificent embrace culture map possibility endless multiple star therefore thousand planet choose broad scope would expected nothing would able keep illusion long farscape really come element succeeds others failed especially like star trek universe practically zero element ran idea pretty quickly kept rehashing course season manage keep audience attention using good continuity constant character evolution multiple thread every episode unique personal touch camera specific certain character group within whole structure allows extremely large area subject matter loyalty forged broken many way many many issue happened see pilot premiere passing keep tuning see crichton would ever get girl seeing television delighted see available dvd admit thing kept sane whilst hour night shift developed chronic insomnia farscape thing get extremely long night favour watch pilot see mean farscape comet\n",
      "Predicted Sentiment: Positive\n",
      "\n",
      "Review 3: film quickly get major chase scene ever increasing destruction first really bad thing guy hijacking steven seagal would beaten pulp seagal driving probably would ended whole premise movie seems like decided make kind change movie plot plan enjoy action expect coherent plot turn sense logic may reduce chance getting headache give hope steven seagal trying move back towards type character portrayed popular movie\n",
      "Predicted Sentiment: Negative\n",
      "\n",
      "Review 4: jane austen would definitely approve one gwyneth paltrow awesome job capturing attitude emma funny without excessively silly yet elegant put convincing british accent british maybe best judge fooled also excellent sliding door sometimes forget american also brilliant jeremy northam sophie thompson phyllida law emma thompson sister mother bates woman nearly steal show m law even line highly recommended\n",
      "Predicted Sentiment: Positive\n",
      "\n",
      "Review 5: expectation somewhat high went see movie thought steve carell could wrong coming great movie like anchorman year old virgin little miss sunshine boy wrong start right movie certain point steve carell allowed steve carell handful moment film made laugh due almost entirely given wiggle room thing undoubtedly talented individual shame signed turned opinion total train wreck way discus went horrifyingly wrong film begin dan burn widower three girl considered syndicated advice column prepares girl family reunion extended relative gather time family high atop list thing make awful movie family behaves like almost transported pleasantville leave beaver caricature think family reach point become obnoxious simply frustrating touch football crossword puzzle competition family bowling talent show actual people behave almost sickening another big flaw woman carell supposed falling observing first scene steve carell like watching stroke victim trying rehabilitated imagine supposed unique original woman come mildly retarded make think movie taking place another planet left theater wondering saw thinking think much\n",
      "Predicted Sentiment: Negative\n",
      "\n",
      "Review 6: watched movie fairly regular basis life never get old snide remark insult mostly david spade tommy boy giant heart keep movie funny year tommy callahan chris farley son big tom callahan brian dennehy master car part salesman ridden life died dy wedding day tommy learns company debt bought ray dan akroyd owner huge car part company order save company tommy go road sell company new brake pad along ride though choice richard hayden david spade former classmate tommy big tom right hand man movie ride chemistry two snl star real life best friend chris farley david spade duo enough comic energy going power world big dumb guy versus smart little guy work scene unforgettably funny farley spade actually decent dramatic actor well although film primarily comedy fair share drama spade especially farley good making audience laugh forgive talk chris farley little read biography chris farley show biography three act anyone care understanding chris real life made movie special chris farley genuinely good person struggled ultimately failed conquer addiction although first movie major role best film really showed much talent knowing chris story add another layer movie although make less funny farley spade matched good screen cast rob lowe suitably slimy tommy new brother bo derek solid step mother brian dennehy great big tom dennehy make easy believe father son big tom crazy son although smarter mature dan akroyd give one best performance giving tommy hard truth behind advertising julie warner also good tommy love interest michelle peter segal one great comedy director keep pace quick energetic importantly know make comedy funny joke understands funny actor know allows segal go step give tommy boy friendly almost nostalgic tone tug heartstrings genuinely tickle critic like tommy boy shame movie super sophisticated intellectual funny god forbid farley spade forced muted comedy la office great movie one time favorite\n",
      "Predicted Sentiment: Positive\n",
      "\n",
      "Review 7: story hope highlighted tragic reality youth face favela rising draw one scary unsafe unfair world show beautiful color moving music one man dedicated friend choose accept world change action art entertaining interesting emotional aesthetically beautiful film showed film numerous high school student well live neighborhood poverty gun violence enamored anderson protagonist recommend film age due subtitle image death background\n",
      "Predicted Sentiment: Positive\n",
      "\n",
      "Review 8: okay get purgatory thing first time watched episode seemed like something significant going put finger time costa fire tv really caught attention helped writing essay inferno let see discussed yet review mentioned tony flight stair go broken elevator yeah significant number lot reason especially religious one ya hunch consulted wikipedia guess dante divided level excluding ante purgatory paradise stuff bottom stair tony get allegedly random monk slap scene soon monk appeared fit perfectly place tony trying get purgatory tell got worried christian commercial death disease sin came getting desperate christian heaven looking kinda iffy time meet monk thinking hey maybe guy help sound like contemplating religion e g buddhism wondering path could take salvation tony necessarily literally thinking becoming buddhist appears finnerty tried messed slap face basically tell tony quick fix suddenly embrace buddhism get tony initially concerned getting heaven conference entrance realizes going easy first saw name v driver license problem tony led sort double life killing people sleeping around kept secret people feel free affair quasi melfi kevin finnerty figure fool people card like hotel receptionist get purgatory helicopter helicopter heaven keeping track everything reading theory though seems like identity reminder infinite different path tony could taken life possibly along car joke involving made sense otherwise point brain fizzle\n",
      "Predicted Sentiment: Negative\n",
      "\n",
      "Review 9: disappointed series lot cool graphic level detail went minimal always got feeling audience lot seemed extremely cool going explain detail get anyway let show pretty picture entertain host would drop interesting sounding word super symmetry without attempt explaining look wikipedia furthermore know quite bit layman found explanation convoluted could much better could chosen much better example explain concept instead example used confusing obscured subject additionally got sick repetitiveness could easily condensed series one episode cut repetition must shown clip quantum café time host kept saying thing remember many time said universe made tiny little string like trying brainwash u accepting best thing since sliced bread finally show ended unpleasant sense competition cern clearly biased towards supposed educational program quantum physic whether u better europe vice versa also felt part patronizing audience need see conflict remain interested please give little credit overall thumb\n",
      "Predicted Sentiment: Negative\n",
      "\n",
      "Review 10: first minute tinseltown finger teetering remote poised flick around watch something else premise two writer luck living self storage space bin mildly amusing painfully bland introduction character played joe pantoliano big deal movie guy life park sleep lavatory offered hope decided give minute kristy swanson introduction budding film director borderline nymphomaniac added bit spice solid acting performance raised presence beyond welcome eye candy inclusion ultimately obvious low budget impact film poorly shot scene pace slapstick handling certain moment favourite movie time low budget one also deal guy dream luck however money actor save tinseltown terrible movie archive nudge could cult movie archive laughed loud scene involving joe pantoliano character particular penultimate scene terribly clichéd still funny rich screwed character house story unravels towards final moment see tinseltown great stage play film maker best translate celluloid simply work laughed loud scene one liner think first minute dulled sens expectation degree would laughed anything unless stuck novelty coffee coaster pick see bargain bucket\n",
      "Predicted Sentiment: Negative\n",
      "\n"
     ]
    }
   ],
   "source": [
    "predictions = best_model.predict(pad_data)\n",
    "\n",
    "# عرض النتائج\n",
    "for i, prediction in enumerate(predictions):\n",
    "    sentiment = \"Positive\" if prediction[1] > 0.5 else \"Negative\"\n",
    "    print(f\"Review {i+1}: {X.iloc[i]}\")  # استخدم iloc للوصول للجمل من الـ DataFrame\n",
    "    print(f\"Predicted Sentiment: {sentiment}\\n\")\n"
   ]
  },
  {
   "cell_type": "code",
   "execution_count": null,
   "metadata": {},
   "outputs": [],
   "source": []
  }
 ],
 "metadata": {
  "kernelspec": {
   "display_name": "Python 3 (ipykernel)",
   "language": "python",
   "name": "python3"
  },
  "language_info": {
   "codemirror_mode": {
    "name": "ipython",
    "version": 3
   },
   "file_extension": ".py",
   "mimetype": "text/x-python",
   "name": "python",
   "nbconvert_exporter": "python",
   "pygments_lexer": "ipython3",
   "version": "3.12.7"
  }
 },
 "nbformat": 4,
 "nbformat_minor": 4
}
